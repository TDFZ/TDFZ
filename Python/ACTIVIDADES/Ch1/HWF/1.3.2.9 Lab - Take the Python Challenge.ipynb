{
  "metadata": {
    "anaconda-cloud": {},
    "kernelspec": {
      "name": "python",
      "display_name": "Python (Pyodide)",
      "language": "python"
    },
    "language_info": {
      "codemirror_mode": {
        "name": "python",
        "version": 3
      },
      "file_extension": ".py",
      "mimetype": "text/x-python",
      "name": "python",
      "nbconvert_exporter": "python",
      "pygments_lexer": "ipython3",
      "version": "3.8"
    }
  },
  "nbformat_minor": 4,
  "nbformat": 4,
  "cells": [
    {
      "cell_type": "markdown",
      "source": "![Título](Images/cisco.png)",
      "metadata": {}
    },
    {
      "cell_type": "markdown",
      "source": "# Práctica de laboratorio: Realice el desafío de Python \n\n\nEste es un ejercicio opcional para probar su conocimiento de los principios básicos de Python. Sin embargo, recomendamos fervientemente que el estudiante complete estos ejercicios para prepararse para el resto de este curso. Si no sabe cómo resolverlos, fíjese en las lecciones de Python disponibles en la carpeta de Materiales del curso/tutoriales y demostraciones.",
      "metadata": {}
    },
    {
      "cell_type": "markdown",
      "source": "#### Responda las preguntas o complete las tareas detalladas a continuación; utilice el método específico descrito, si corresponde.",
      "metadata": {}
    },
    {
      "cell_type": "markdown",
      "source": "#### 1) ¿Cuánto es 3 a la potencia de 5?",
      "metadata": {}
    },
    {
      "cell_type": "code",
      "source": "# Code cell 1\n3 ** 5",
      "metadata": {},
      "execution_count": null,
      "outputs": []
    },
    {
      "cell_type": "markdown",
      "source": "#### 2) Cree una variable, *'s'*, que contenga la cadena \"¡Este curso es increíble!\". Con la variable, divida la cadena en una lista.",
      "metadata": {}
    },
    {
      "cell_type": "code",
      "source": "# Code cell 2\ns = \"¡Este curso es increíble!\"\nlista = s.split()\nprint(lista)",
      "metadata": {},
      "execution_count": null,
      "outputs": []
    },
    {
      "cell_type": "markdown",
      "source": "#### 3) Dadas las variables altura y montaña, use .format() para imprimir la cadena siguiente:\n<center>‘La altura del Monte Everest es de 8848 metros’.</center>",
      "metadata": {}
    },
    {
      "cell_type": "code",
      "source": "# Code cell 3\n\naltura = 8848\nmontaña = \"Monte Everest\"\nprint(\"La altura del {} es de {} metros\".format(mountain, height))\n",
      "metadata": {},
      "execution_count": null,
      "outputs": []
    },
    {
      "cell_type": "markdown",
      "source": "#### 4) Dada la lista anidada siguiente, use la indexación para tomar la palabra '\"esto\"'.",
      "metadata": {}
    },
    {
      "cell_type": "code",
      "source": "# Code cell 4\nlst = ['a','b',[4,10,11],['c',[1,66,['esto']],2,111],'e',7]\npalabra = lst[3][1][2][0]\nprint(palabra)",
      "metadata": {},
      "execution_count": null,
      "outputs": []
    },
    {
      "cell_type": "markdown",
      "source": "#### 5) Dado el diccionario anidado siguiente, tome la palabra \"eso\". Este ejercicio es un poco más difícil.",
      "metadata": {}
    },
    {
      "cell_type": "code",
      "source": "# Code cell 5\nd = {'k1':['val1','val2','val3',{'we':['need','to','go',{'deeper':[1,2,3,'eso']}]}]}\npalabra = d['k1'][3]['we'][3]['deeper'][3]\nprint(palabra)",
      "metadata": {},
      "execution_count": null,
      "outputs": []
    },
    {
      "cell_type": "markdown",
      "source": "#### 6) ¿Cuál es la diferencia principal entre una tupla y una lista? ",
      "metadata": {}
    },
    {
      "cell_type": "markdown",
      "source": "Una diferencia fundamental entre una tupla y una lista en Python es que una tupla es inmutable, mientras que una lista es mutable.",
      "metadata": {}
    },
    {
      "cell_type": "markdown",
      "source": "#### 7) Cree una función, GetDomain(), que tome el dominio del sitio web de correo electrónico de una cadena en la forma: 'user@domain.com'.\nPor ejemplo, el paso de \"user@domain.com\" daría: domain.com",
      "metadata": {}
    },
    {
      "cell_type": "code",
      "source": "# Code cell 6\ndef GetDomain(email):\n    domain = email.split('@')[1]\n    return domain\nemail = 'william.defaz@epn.edu.ec'\ndomain = GetDomain(email)\nprint(\"El dominio es: \", domain)",
      "metadata": {},
      "execution_count": null,
      "outputs": []
    },
    {
      "cell_type": "markdown",
      "source": "#### 8) Cree una función básica, findInternet(), que dé una devolución de True si la palabra 'Internet' se incluye en la cadena de entrada. No se preocupe por los casos de perímetro como la puntuación que se asocia con la palabra, pero tenga en cuenta el uso de mayúsculas. (Sugerencia: vea https://docs.python.org/2/reference/expressions.html#in)",
      "metadata": {}
    },
    {
      "cell_type": "code",
      "source": "# Code cell 7\ndef findInternet(input_str):\n       return 'Internet' in input_str\ninput_str = \"El Internet fue creado en la década de 1960 como una red de comunicación para el Departamento de Defensa de los Estados Unidos llamada ARPANET\"\nprint(findInternet(input_str))\nTrue\ninput_str = \"EL acceso a servicios web aún es limitado.\"\nprint(findInternet(input_str))\nFalse\n",
      "metadata": {},
      "execution_count": null,
      "outputs": []
    },
    {
      "cell_type": "markdown",
      "source": "#### 9) Cree una función, countIoT(), que cuente la cantidad de veces que la palabra \"IdT\" aparece en una cadena.  Ignore los casos de perímetro pero tenga en cuenta el uso de mayúsculas.",
      "metadata": {}
    },
    {
      "cell_type": "code",
      "source": "# Code cell 8\ndef countIoT(cadena):\n\n    cadena = cadena.lower()\n\n    cadena = cadena.replace(\"idt\", \"iot\")\n\n    count = cadena.count(\"iot\")\n \n    return count\n\ncadena = \"'I don\\'t know how to spell IoT ! Is it IoT or iot ? What does iot mean anyway?'\"\ncantidad = countIoT(cadena)\nprint(cantidad)  \n",
      "metadata": {
        "trusted": true
      },
      "execution_count": 18,
      "outputs": [
        {
          "name": "stdout",
          "text": "4\n",
          "output_type": "stream"
        }
      ]
    },
    {
      "cell_type": "markdown",
      "source": "#### 10) Utilice las expresiones lambda y la función filter() para filtrar las palabras de una lista que no comiencen con la letra 'd'. Por ejemplo:\n\n    sec = [“datos”, “sal”, “diario”, “gato”, “perro”]\n\ndebe ser filtrado a:\n\n    ['datos', 'diario']",
      "metadata": {}
    },
    {
      "cell_type": "code",
      "source": "# Code cell 9\nsec = [\"datos\", \"sal\", \"diario\", \"gato\", \"perro\"]\nresultado = list(filter(lambda x: x.startswith('d'), sec))\nprint(resultado)\n",
      "metadata": {
        "trusted": true
      },
      "execution_count": 17,
      "outputs": [
        {
          "name": "stdout",
          "text": "['datos', 'diario']\n",
          "output_type": "stream"
        }
      ]
    },
    {
      "cell_type": "markdown",
      "source": "#### 11) Utilice las expresiones lambda y la función map() para convertir una lista de palabras a mayúsculas. Por ejemplo:",
      "metadata": {}
    },
    {
      "cell_type": "markdown",
      "source": "sec = [“datos”, “sal”, “diario”, “gato”, “perro”]\n\ndebe ser:\n\n   [“DATOS”, “SAL”, “DIARIO”, “GATO”, “PERRO”]",
      "metadata": {}
    },
    {
      "cell_type": "code",
      "source": "# Code cell 10\nsec = [\"datos\", \"sal\", \"diario\", \"gato\", \"perro\"]\nresultado = list(map(lambda x: x.upper(), sec))\nprint(resultado)\n",
      "metadata": {
        "trusted": true
      },
      "execution_count": 16,
      "outputs": [
        {
          "name": "stdout",
          "text": "['DATOS', 'SAL', 'DIARIO', 'GATO', 'PERRO']\n",
          "output_type": "stream"
        }
      ]
    },
    {
      "cell_type": "markdown",
      "source": "#### 12) Imagine un termostato inteligente conectado a la puerta que pueda detectar, además de la temperatura, el momento en el que las personas entran o salen de la casa. \nEscriba una función que, cuando la temperatura sea inferior a 20 ºC y haya personas en la casa (codificado como valor booleano que se envía como parámetro a la función), inicie la calefacción mediante la devolución de la cadena \"calefacción encendida\". Cuando la temperatura llegue a 23 grados o no haya personas en la casa, la función devuelve la cadena \"calefacción apagada\". Cuando no se cumpla ninguna de estas condiciones, la función es \"No hacer nada\".",
      "metadata": {}
    },
    {
      "cell_type": "code",
      "source": "# Code cell 11\ndef control_calefaccion(temp, personas_en_casa):\n    if temp < 20 and personas_en_casa:\n        print(\"La temperatura es baja y hay personas en la casa. Encendiendo la calefacción...\")\n        return \"calefacción encendida\"\n    elif temp >= 23 or not personas_en_casa:\n        print(\"La temperatura es alta o no hay personas en la casa. Apagando la calefacción...\")\n        return \"calefacción apagada\"\n    else:\n        print(\"La temperatura es normal y hay personas en la casa. No hacer nada.\")\n        return \"No hacer nada\"\nprint(control_calefaccion(18, True))   \nprint(control_calefaccion(23, False)) \nprint(control_calefaccion(21, True)) ",
      "metadata": {
        "tags": [],
        "trusted": true
      },
      "execution_count": 15,
      "outputs": [
        {
          "name": "stdout",
          "text": "La temperatura es baja y hay personas en la casa. Encendiendo la calefacción...\ncalefacción encendida\nLa temperatura es alta o no hay personas en la casa. Apagando la calefacción...\ncalefacción apagada\nLa temperatura es normal y hay personas en la casa. No hacer nada.\nNo hacer nada\n",
          "output_type": "stream"
        }
      ]
    },
    {
      "cell_type": "markdown",
      "source": "#### 13) La función zip(list1, list2) devuelve una lista de tuplas, donde la tupla i-th contiene el elemento i-th de cada una de las listas de argumento. Utilice la función zip para crear la siguiente lista de tuplas:",
      "metadata": {}
    },
    {
      "cell_type": "markdown",
      "source": "'comprimido = [(“Estacionamiento”, -1), (“Negocios”, 0), (“Área de restaurantes”, 1), (“oficinas”, 2)]'",
      "metadata": {}
    },
    {
      "cell_type": "code",
      "source": "# Code cell 14\nfloor_types = ['Estacionamiento', 'Negocios', 'Área de restaurantes', 'Oficinas']\nfloor_numbers = range(-1, 4)\n\ncomprimido = list(zip(floor_types, floor_numbers))\n\nprint(comprimido)",
      "metadata": {
        "trusted": true
      },
      "execution_count": 9,
      "outputs": [
        {
          "name": "stdout",
          "text": "[('Estacionamiento', -1), ('Negocios', 0), ('Área de restaurantes', 1), ('Oficinas', 2)]\n",
          "output_type": "stream"
        }
      ]
    },
    {
      "cell_type": "markdown",
      "source": "#### 14) Utilice la función zip y dict() para crear un diccionario, elevator_dict, donde las teclas sean los tipos de piso y los valores sean el número correspondiente del piso, de modo que:\nelevator_dict[- 1] = “Estacionamiento”",
      "metadata": {}
    },
    {
      "cell_type": "code",
      "source": "# Code cell 15\nfloor_types = ['Estacionamiento', 'Negocios', 'Área de restaurantes', 'Oficinas']\nfloor_numbers = range(-1, 4)\n\nelevator_dict = dict(zip(floor_numbers, floor_types))\n\nprint(elevator_dict)\n",
      "metadata": {
        "trusted": true
      },
      "execution_count": 6,
      "outputs": [
        {
          "name": "stdout",
          "text": "{-1: 'Estacionamiento', 0: 'Negocios', 1: 'Área de restaurantes', 2: 'Oficinas'}\n",
          "output_type": "stream"
        }
      ]
    },
    {
      "cell_type": "code",
      "source": "# Code cell 16\nfloor_types = ['Estacionamiento', 'Negocios', 'Área de restaurantes', 'Oficinas']\nfloor_numbers = range(-1, 4)\n\nelevator_dict = dict(zip(floor_numbers, floor_types))\n\nprint(elevator_dict[-1]) \n",
      "metadata": {
        "trusted": true
      },
      "execution_count": 7,
      "outputs": [
        {
          "name": "stdout",
          "text": "Estacionamiento\n",
          "output_type": "stream"
        }
      ]
    },
    {
      "cell_type": "markdown",
      "source": "#### 15) Cree una clase de 'Ascensor'. El constructor acepta la lista de cadenas 'floor_types' y la lista de números enteros 'floor_numbers'. La clase implementa los métodos 'ask_which_floor' y 'go_to_floor'. La salida de estos métodos debe verse de la siguiente manera:\n`floor_types = ['Estacionamiento', 'Negocios', 'Área de restaurantes', 'Oficinas']\nfloors_numbers = rango(-1,4)\n\nel = Elevador(floor_numbers, floor_types)\n\nel.go_to_floor(1)`\n\n`¡Vaya al piso del área de restaurantes!`\n\n`el.go_to_floor(-2)`\n\n`En este edificio está el piso número -2.`\n\n`El.ask_which_floor('Oficinas')`\n\n`El piso de oficinas es el número: 2`\n\n`El.ask_which_floor('Piscina')`\n\n`No hay ningún piso con piscina en este edificio.`",
      "metadata": {}
    },
    {
      "cell_type": "code",
      "source": "# Code cell 17\n# Verify code cell 18\n# Verify code cell 19\n# Verify code cell 20\n# Verify code cell 21\nclass Elevator:\n    \n    def __init__(self, floor_numbers, floor_types):\n        self._floor_numbers = floor_numbers\n        self._floor_types = floor_types\n        self._number_to_type_dict = dict(zip(floor_numbers, floor_types)) \n        self._type_to_number_dict = dict(zip(floor_types, floor_numbers)) \n        \n    def ask_which_floor(self, floor_type):    \n        if floor_type in self._floor_types:\n            print('El piso de {} es el número: {}.'.format(floor_type, self._type_to_number_dict[floor_type]))\n        else:\n            print('No hay el piso {} en este edificio.'.format(floor_type))\n    \n    def go_to_floor(self, floor_number):\n        if floor_number in self._floor_numbers:\n            print('Vaya al piso {} !'.format(self._number_to_type_dict[floor_number]))\n        else:\n            print('No hay ningún piso con {} en este edificio.'.format(floor_number))\n\nfloor_types = ['Estacionamiento', 'Negocios', 'Área de restaurantes', 'Oficinas']\nfloor_numbers = range(-1, 4)\n\nel = Elevator(floor_numbers, floor_types)\n\nel.go_to_floor(1) \nel.go_to_floor(-2) \nel.ask_which_floor('Oficinas') \nel.ask_which_floor('Piscina') \n",
      "metadata": {
        "tags": [],
        "trusted": true
      },
      "execution_count": 4,
      "outputs": [
        {
          "name": "stdout",
          "text": "Vaya al piso Área de restaurantes !\nNo hay el piso -2 en este edificio.\nEl piso de Oficinas es el número: 2.\nNo hay el piso Piscina en este edificio.\n",
          "output_type": "stream"
        }
      ]
    },
    {
      "cell_type": "markdown",
      "source": "# ¡Excelente trabajo!",
      "metadata": {}
    },
    {
      "cell_type": "markdown",
      "source": "<font size='0.5'>© 2017 Cisco y/o sus filiales. Todos los derechos reservados. Este documento es información pública de Cisco.<font>",
      "metadata": {}
    }
  ]
}